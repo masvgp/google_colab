{
  "nbformat": 4,
  "nbformat_minor": 0,
  "metadata": {
    "colab": {
      "name": "newtons_method.ipynb",
      "provenance": [],
      "collapsed_sections": [],
      "authorship_tag": "ABX9TyN2MldivgYmfUX8M6OCtp4V",
      "include_colab_link": true
    },
    "kernelspec": {
      "name": "python3",
      "display_name": "Python 3"
    }
  },
  "cells": [
    {
      "cell_type": "markdown",
      "metadata": {
        "id": "view-in-github",
        "colab_type": "text"
      },
      "source": [
        "<a href=\"https://colab.research.google.com/github/masvgp/google_colab/blob/master/newtons_method.ipynb\" target=\"_parent\"><img src=\"https://colab.research.google.com/assets/colab-badge.svg\" alt=\"Open In Colab\"/></a>"
      ]
    },
    {
      "cell_type": "markdown",
      "metadata": {
        "id": "aiZFaTTrQJpq"
      },
      "source": [
        "# Basics of Python & Newton's Method"
      ]
    },
    {
      "cell_type": "markdown",
      "metadata": {
        "id": "ymSZZL5STM6b"
      },
      "source": [
        "The following code cells and explanations will teach you about the various code elements used in the Newton's method function below. The goal is simply to understand some basic Python syntax so that you can see how a mathematical method is applied on a computer."
      ]
    },
    {
      "cell_type": "markdown",
      "metadata": {
        "id": "s4RYSXg3R4HF"
      },
      "source": [
        "## Libraries"
      ]
    },
    {
      "cell_type": "markdown",
      "metadata": {
        "id": "_DHcb_7ATg3K"
      },
      "source": [
        "Step 1 is to import a library of mathematical functions; that is what `import` does; then we name the library, this one is called `numpy`; and we will give it a 'short' name so that we don't have to type `numpy` everytime we want to use something from the library, this is what the `as` command does. Here, we shortened `numpy` to `np`. "
      ]
    },
    {
      "cell_type": "code",
      "metadata": {
        "id": "98YMZPH8QFbd"
      },
      "source": [
        "# This is a comment... it starts with a #. The text in the comment won't be\n",
        "# run by the Python interpreter. But the following code that 'loads' the `numpy`\n",
        "# library will be run.\n",
        "import numpy as np"
      ],
      "execution_count": 3,
      "outputs": []
    },
    {
      "cell_type": "markdown",
      "metadata": {
        "id": "-5SjKscbUKkE"
      },
      "source": [
        "Let's use something from `numpy` just to see how it works."
      ]
    },
    {
      "cell_type": "code",
      "metadata": {
        "id": "cvXdPbHgUQEX",
        "outputId": "dbaeac1c-c0e8-418e-97a9-ffd41fd58aea",
        "colab": {
          "base_uri": "https://localhost:8080/",
          "height": 34
        }
      },
      "source": [
        "# If you run this cell, Python will evaluate sqrt(2) for you. Compare it to your calculator.\n",
        "np.sqrt(2) "
      ],
      "execution_count": 4,
      "outputs": [
        {
          "output_type": "execute_result",
          "data": {
            "text/plain": [
              "1.4142135623730951"
            ]
          },
          "metadata": {
            "tags": []
          },
          "execution_count": 4
        }
      ]
    },
    {
      "cell_type": "code",
      "metadata": {
        "id": "XJ4Z04ccQ8MN"
      },
      "source": [
        "# Try it yourself: Try using numpy's cosine function by\n",
        "# typing np.cos() and entering a value in the open parentheses.\n",
        "# Then evaluate this cell with 'shift-enter'.\n",
        "\n"
      ],
      "execution_count": 5,
      "outputs": []
    },
    {
      "cell_type": "markdown",
      "metadata": {
        "id": "VTmWh4wKUl07"
      },
      "source": [
        "Python doesn't have a sqrt function, so the publishers of `numpy` wrote one. However, there is a way to get a square root without using numpy. We just use exponents."
      ]
    },
    {
      "cell_type": "code",
      "metadata": {
        "id": "r8cnHg9WU3SS",
        "outputId": "a2e6bbc4-c95f-4359-e25e-927a2471abdf",
        "colab": {
          "base_uri": "https://localhost:8080/",
          "height": 35
        }
      },
      "source": [
        "# This is just 2^(1/2). You should get the same result as above.\n",
        "2 ** 0.5"
      ],
      "execution_count": null,
      "outputs": [
        {
          "output_type": "execute_result",
          "data": {
            "text/plain": [
              "1.4142135623730951"
            ]
          },
          "metadata": {
            "tags": []
          },
          "execution_count": 28
        }
      ]
    },
    {
      "cell_type": "markdown",
      "metadata": {
        "id": "Ejz46C0aT6P5"
      },
      "source": [
        "<br />\n",
        "<br />"
      ]
    },
    {
      "cell_type": "markdown",
      "metadata": {
        "id": "i_9HADwASARh"
      },
      "source": [
        "## Variables"
      ]
    },
    {
      "cell_type": "markdown",
      "metadata": {
        "id": "USxm5kPgVEU-"
      },
      "source": [
        "Now we need to understand how variables work in Python. Unlike variables in math, we usually assign a Python variable a specific value. But then the value may change as it is used by functions or other Python objects."
      ]
    },
    {
      "cell_type": "code",
      "metadata": {
        "id": "IEqB77TrSuxn"
      },
      "source": [
        "# x is a variable and it will be assigned the value of 2 after you run this cell.\n",
        "x = 2 "
      ],
      "execution_count": null,
      "outputs": []
    },
    {
      "cell_type": "markdown",
      "metadata": {
        "id": "rU3fC_7vVpV4"
      },
      "source": [
        "In Python (and most programming languages), variables can be descriptive, and this is usually desirable. It makes the code more readable."
      ]
    },
    {
      "cell_type": "code",
      "metadata": {
        "id": "ewE5MtwxV2aJ",
        "outputId": "c3c652db-6d7e-43ff-8000-b4df96dbb9e5",
        "colab": {
          "base_uri": "https://localhost:8080/",
          "height": 35
        }
      },
      "source": [
        "dogs = 2\n",
        "cats = 3\n",
        "total_animals = dogs + cats\n",
        "print(total_animals)"
      ],
      "execution_count": null,
      "outputs": [
        {
          "output_type": "stream",
          "text": [
            "5\n"
          ],
          "name": "stdout"
        }
      ]
    },
    {
      "cell_type": "markdown",
      "metadata": {
        "id": "2ErGXybBRnvQ"
      },
      "source": [
        "Try it yourself: In the empty code cell below, experiment with some variables by assigning values to variables and printing them to see what they are. Use 'shift-enter' to run the cell when you are ready."
      ]
    },
    {
      "cell_type": "code",
      "metadata": {
        "id": "xe6sQ_1wRzEI"
      },
      "source": [
        ""
      ],
      "execution_count": 2,
      "outputs": []
    },
    {
      "cell_type": "markdown",
      "metadata": {
        "id": "ZLaJfOgDbs9B"
      },
      "source": [
        "There are lots of things to know about variables that I'm not mentioning. For example, we can assign words to variables. But we don't need that to compute stuff, so we'll leave that out for now."
      ]
    },
    {
      "cell_type": "markdown",
      "metadata": {
        "id": "_7A4sR_CT2np"
      },
      "source": [
        "<br />\n",
        "<br />"
      ]
    },
    {
      "cell_type": "markdown",
      "metadata": {
        "id": "0of7YNprSw0i"
      },
      "source": [
        "## Functions"
      ]
    },
    {
      "cell_type": "markdown",
      "metadata": {
        "id": "NPvZidRc72Df"
      },
      "source": [
        "We can define functions in Python that behave just like a function we might write on the white-board. The syntax, however, is a little more involved. Here is a simple function that computes the square of any number $x$."
      ]
    },
    {
      "cell_type": "code",
      "metadata": {
        "id": "9wbYO-8W8XyT"
      },
      "source": [
        "def square(x):\n",
        "  return x ** 2"
      ],
      "execution_count": null,
      "outputs": []
    },
    {
      "cell_type": "markdown",
      "metadata": {
        "id": "Xp6na88Y8eOL"
      },
      "source": [
        "The keyword `def` tells the Python interpreter that a function definition has begun. We named our function `square`, which is descriptive of what the function will do. Some functions don't have a specific task -- those functions we will call `f` or `g` etc.\n",
        "\n",
        "Let's test the square function by calling it. Feel free to try squaring other numbers."
      ]
    },
    {
      "cell_type": "code",
      "metadata": {
        "id": "K15AVLzD9LR2",
        "outputId": "d8d0b8b6-a5fc-46c5-cdb7-7f22b96f8bad",
        "colab": {
          "base_uri": "https://localhost:8080/",
          "height": 34
        }
      },
      "source": [
        "square(2)"
      ],
      "execution_count": null,
      "outputs": [
        {
          "output_type": "execute_result",
          "data": {
            "text/plain": [
              "4"
            ]
          },
          "metadata": {
            "tags": []
          },
          "execution_count": 34
        }
      ]
    },
    {
      "cell_type": "markdown",
      "metadata": {
        "id": "CSu3Na6m9N34"
      },
      "source": [
        "Let's define a function that is a little more involved."
      ]
    },
    {
      "cell_type": "code",
      "metadata": {
        "id": "B8FC4vrb9Xm8"
      },
      "source": [
        "def piece_wise(x):\n",
        "  if x < 0:\n",
        "    return x\n",
        "  else:\n",
        "    return np.sin(x)"
      ],
      "execution_count": null,
      "outputs": []
    },
    {
      "cell_type": "markdown",
      "metadata": {
        "id": "imuThZzr9rOW"
      },
      "source": [
        "Maybe you can already guess what the `piece_wise` function does. It takes any real number $x$. If the number is negative, `piece_wise` just returns the number `x`, otherwise, `piece_wise` returns the sine of $x$. This is equivalent to the piecewise function $$ f(x) = \n",
        "\\begin{cases}\n",
        "x & x < 0\\\\\n",
        "\\sin(x) & x \\geq 0.\n",
        "\\end{cases} $$"
      ]
    },
    {
      "cell_type": "code",
      "metadata": {
        "id": "BQje1LPL-75Y"
      },
      "source": [
        "# Test out the piece_wise function by calling it with both negative and positive values and then running this cell.\n"
      ],
      "execution_count": null,
      "outputs": []
    },
    {
      "cell_type": "markdown",
      "metadata": {
        "id": "rsMMk5zr_K-8"
      },
      "source": [
        "In the last example we used an `if`-`else` statement. In the example above, the interpreter checked to see `if x < 0`. If this statement evaluates to `True`, then the susequent indented code is run. If `x < 0` evaluates to `False`, then the interpreter moves on to the `else` statement. \n",
        "\n",
        "Any Python object that changes the flow of the program is called a control structure. This is because they 'control' the path of execution of our code. If-else statements check to see if a condition is true, if the statement is true it runs the next indented block of code. If not, it moves on the the next code that is at the same level. There are other control structures beside if-else statements. \n",
        "\n",
        "This seems like a good place to mention that Python interprets indentation in a particular way. We have to be careful about how and what we indent. The same was true for the functions `piece_wise` and `square`. Following the definition of the function we put a colon and the 'body' of the function was indented one tabs worth.\n",
        "\n",
        "\n"
      ]
    },
    {
      "cell_type": "markdown",
      "metadata": {
        "id": "wqvQsaYdFq8W"
      },
      "source": [
        "There are two more things I want to mention about functions. First, functions can take more than a single argument. For example, suppose I want a function to add any three numbers for me. Then I might do the following."
      ]
    },
    {
      "cell_type": "code",
      "metadata": {
        "id": "-71Wpt85GNRS",
        "outputId": "db9b6cfe-dbfc-43a2-d47c-0165b5eb26b6",
        "colab": {
          "base_uri": "https://localhost:8080/",
          "height": 34
        }
      },
      "source": [
        "def add(a, b, c):\n",
        "  return a + b + c\n",
        "\n",
        "add(1, 2, 3)"
      ],
      "execution_count": null,
      "outputs": [
        {
          "output_type": "execute_result",
          "data": {
            "text/plain": [
              "6"
            ]
          },
          "metadata": {
            "tags": []
          },
          "execution_count": 48
        }
      ]
    },
    {
      "cell_type": "markdown",
      "metadata": {
        "id": "EserSyNtZlM4"
      },
      "source": [
        "The second is a more concise way of defining a function using Python's `lambda` expression. With this, we can write a function on a single line."
      ]
    },
    {
      "cell_type": "code",
      "metadata": {
        "id": "lJgWMPorZ5gZ",
        "outputId": "8a3727d0-40a2-4963-947f-5dd4dcfbd6ed",
        "colab": {
          "base_uri": "https://localhost:8080/",
          "height": 34
        }
      },
      "source": [
        "# Here is the lambda version of the square function.\n",
        "square = lambda x : x ** 2\n",
        "square(4)"
      ],
      "execution_count": 17,
      "outputs": [
        {
          "output_type": "execute_result",
          "data": {
            "text/plain": [
              "16"
            ]
          },
          "metadata": {
            "tags": []
          },
          "execution_count": 17
        }
      ]
    },
    {
      "cell_type": "code",
      "metadata": {
        "id": "G68exKtTaFuP",
        "outputId": "4bfd9114-4fa0-4dd9-c3e5-c8260e0ea2c1",
        "colab": {
          "base_uri": "https://localhost:8080/",
          "height": 34
        }
      },
      "source": [
        "# Here is a lambda function for cos(x) + sin(x)\n",
        "f = lambda x : np.cos(x) + np.sin(x)\n",
        "f(np.pi/2)"
      ],
      "execution_count": 18,
      "outputs": [
        {
          "output_type": "execute_result",
          "data": {
            "text/plain": [
              "1.0"
            ]
          },
          "metadata": {
            "tags": []
          },
          "execution_count": 18
        }
      ]
    },
    {
      "cell_type": "markdown",
      "metadata": {
        "id": "dcbI-aFNTf6q"
      },
      "source": [
        "<br />\n",
        "<br />"
      ]
    },
    {
      "cell_type": "markdown",
      "metadata": {
        "id": "zNan9laHTNjm"
      },
      "source": [
        "## Scope"
      ]
    },
    {
      "cell_type": "markdown",
      "metadata": {
        "id": "xzf6lZJ3DKd8"
      },
      "source": [
        "Try out the following code cell."
      ]
    },
    {
      "cell_type": "code",
      "metadata": {
        "id": "46mewB8PCs9w",
        "outputId": "2d4fc89d-ddbb-49a1-ac84-168f59696b77",
        "colab": {
          "base_uri": "https://localhost:8080/",
          "height": 34
        }
      },
      "source": [
        "x=3\n",
        "def f():\n",
        "  x = 2\n",
        "  \n",
        "\n",
        "x"
      ],
      "execution_count": null,
      "outputs": [
        {
          "output_type": "execute_result",
          "data": {
            "text/plain": [
              "3"
            ]
          },
          "metadata": {
            "tags": []
          },
          "execution_count": 45
        }
      ]
    },
    {
      "cell_type": "markdown",
      "metadata": {
        "id": "FpqEFK8MDR7Y"
      },
      "source": [
        "Why didn't the last call to `x` cause the notebook to print out 2? The variable `x` was set to 2 after setting it to 3. The word that describes this behavior is called scope. Binding the value 2 to the variable `x` happens inside a function. That version of `x` is only available inside the function, so the 'environment' outside the function doesn't see it. The outer environment is called the 'global scope' because everything in the program sees things defined in the global scope. The function `f` has a 'local scope' because things defined inside `f` are only 'seen' inside `f`. Here is one more example on scope."
      ]
    },
    {
      "cell_type": "code",
      "metadata": {
        "id": "RbsMk34qFSug",
        "outputId": "92d1a482-0e02-4e13-b7cb-923c398122b2",
        "colab": {
          "base_uri": "https://localhost:8080/",
          "height": 52
        }
      },
      "source": [
        "x = 3\n",
        "def f():\n",
        "  x=2\n",
        "  return x\n",
        "print(f())\n",
        "print(x)"
      ],
      "execution_count": null,
      "outputs": [
        {
          "output_type": "stream",
          "text": [
            "2\n",
            "3\n"
          ],
          "name": "stdout"
        }
      ]
    },
    {
      "cell_type": "markdown",
      "metadata": {
        "id": "rE-LOce7UDo3"
      },
      "source": [
        "<br />\n",
        "<br />"
      ]
    },
    {
      "cell_type": "markdown",
      "metadata": {
        "id": "zMXgh29PUA48"
      },
      "source": [
        "## Control Structures"
      ]
    },
    {
      "cell_type": "markdown",
      "metadata": {
        "id": "2M1ONDwyQyTh"
      },
      "source": [
        "The last thing we will consider before moving on to the Newton's method code are control structures. We have already seen 'if-else'. This controls the flow of a program based on logical evaluations. Next we consider `for` loops, which cause the program to repeat a block of code a specified number of times. A more general name for this kind of object is an iterators. A `while` loop is another example that we will not consider here. \n",
        "\n",
        "The `for` loop requires a list of things to iterate over, and there is a special function called `range()` that provides such a list. Let's look at an example of a `for` loop with a list and one with the `range` function."
      ]
    },
    {
      "cell_type": "code",
      "metadata": {
        "id": "GAScxdKrU7a5",
        "outputId": "de068e95-d738-4356-970f-7810d27a6ba9",
        "colab": {
          "base_uri": "https://localhost:8080/",
          "height": 191
        }
      },
      "source": [
        "for i in [0, 1, 2, 3, 4, 5, 6, 7, 8, 9]:\n",
        "  print(i)"
      ],
      "execution_count": 6,
      "outputs": [
        {
          "output_type": "stream",
          "text": [
            "0\n",
            "1\n",
            "2\n",
            "3\n",
            "4\n",
            "5\n",
            "6\n",
            "7\n",
            "8\n",
            "9\n"
          ],
          "name": "stdout"
        }
      ]
    },
    {
      "cell_type": "code",
      "metadata": {
        "id": "7Qoru1-fRgTS",
        "outputId": "f808a2ab-ddf8-4d14-8b5e-e5f4e28ea2f2",
        "colab": {
          "base_uri": "https://localhost:8080/",
          "height": 191
        }
      },
      "source": [
        "for i in range(10):\n",
        "  print(i)"
      ],
      "execution_count": null,
      "outputs": [
        {
          "output_type": "stream",
          "text": [
            "0\n",
            "1\n",
            "2\n",
            "3\n",
            "4\n",
            "5\n",
            "6\n",
            "7\n",
            "8\n",
            "9\n"
          ],
          "name": "stdout"
        }
      ]
    },
    {
      "cell_type": "markdown",
      "metadata": {
        "id": "hx71t4DoRrWQ"
      },
      "source": [
        "The two loops do the same thing. The first takes `i` in the order of the list [0, 1, 2, 3, 4, 5, 6, 7, 8, 9]. The second does the same thing using the `range()` function. Both of them start by setting `i` equal `0`, then doing whatever is in the indented block with this value. Once the indented block is complete, it starts again with `i` equal to 1, and so on... unless there is a control structure in the indented block that stops execution of the loop. We will see an example of this later."
      ]
    },
    {
      "cell_type": "markdown",
      "metadata": {
        "id": "vPD0jp8vWD7e"
      },
      "source": [
        "Let's look at one more basic example. This example takes the even numbers from `1` to `11` and doubles them. The extra `2` in the `range()` function says to skip every other number."
      ]
    },
    {
      "cell_type": "code",
      "metadata": {
        "id": "BpY5FD92SJjs",
        "outputId": "42d0768c-689f-4203-b1e1-dc569a8d77a2",
        "colab": {
          "base_uri": "https://localhost:8080/",
          "height": 104
        }
      },
      "source": [
        "for number in range(1, 11, 2):\n",
        "  print(2*number)"
      ],
      "execution_count": 8,
      "outputs": [
        {
          "output_type": "stream",
          "text": [
            "2\n",
            "6\n",
            "10\n",
            "14\n",
            "18\n"
          ],
          "name": "stdout"
        }
      ]
    },
    {
      "cell_type": "markdown",
      "metadata": {
        "id": "BFPIRPLdWXFM"
      },
      "source": [
        "Try it yourself: In the code cell below, write a `for` loop that prints all the odd numbers from $1$ to $21$ inclusive (meaning it prints out $1$ and $21$)."
      ]
    },
    {
      "cell_type": "code",
      "metadata": {
        "id": "G8hZfclAWzof"
      },
      "source": [
        ""
      ],
      "execution_count": null,
      "outputs": []
    },
    {
      "cell_type": "markdown",
      "metadata": {
        "id": "Qo28cXG2W8hQ"
      },
      "source": [
        "<div />\n",
        "<div />"
      ]
    },
    {
      "cell_type": "markdown",
      "metadata": {
        "id": "HFgnKx7QW6Yz"
      },
      "source": [
        "## Applications"
      ]
    },
    {
      "cell_type": "markdown",
      "metadata": {
        "id": "7UT1pvXmSfGe"
      },
      "source": [
        "Of course we would like to be able to combine all the elements we just defined. Here is an example that does that."
      ]
    },
    {
      "cell_type": "markdown",
      "metadata": {
        "id": "3Rc61QTgYfWq"
      },
      "source": [
        "<div />"
      ]
    },
    {
      "cell_type": "markdown",
      "metadata": {
        "id": "OzSK1zoDYPnK"
      },
      "source": [
        "#### Division by multiple subtraction."
      ]
    },
    {
      "cell_type": "code",
      "metadata": {
        "id": "wdqnfD5nSmpM"
      },
      "source": [
        "def divide(a, b):\n",
        "  \"\"\"\n",
        "  This function divides the positive number b by the\n",
        "  positive number a and returns the quotient and remainder.\n",
        "  The value of b must be greater than a.\n",
        "  \"\"\"\n",
        "  if b < a or a <= 0 or b < 0:\n",
        "    return \"Argument error, please check you a and b.\"\n",
        "  else:\n",
        "    for q in range(1, b):\n",
        "      r = b - a*q\n",
        "\n",
        "      if r < a:\n",
        "        return (\"You divided \" + str(b) + \" by \" + str(a) +\n",
        "                \". The resulting quotient is \" + str(q) +\n",
        "                \" with remainder \" + str(r) +\n",
        "                \". Check: a*q + r = b = \" + str(a*q + r)) "
      ],
      "execution_count": 13,
      "outputs": []
    },
    {
      "cell_type": "markdown",
      "metadata": {
        "id": "HXZzNkDEX1-c"
      },
      "source": [
        "Let's test the `divide` function."
      ]
    },
    {
      "cell_type": "code",
      "metadata": {
        "id": "j9UtsP2dX5Qf",
        "outputId": "9d810470-63db-402b-c24a-adabb253cac2",
        "colab": {
          "base_uri": "https://localhost:8080/",
          "height": 34
        }
      },
      "source": [
        "# Experiment with the divide function by trying different 'a' and 'b'.\n",
        "print(divide(3, 500))"
      ],
      "execution_count": 15,
      "outputs": [
        {
          "output_type": "stream",
          "text": [
            "You divided 500 by 3. The resulting quotient is 166 with remainder 2. Check: a*q + r = b = 500\n"
          ],
          "name": "stdout"
        }
      ]
    },
    {
      "cell_type": "markdown",
      "metadata": {
        "id": "XMi1DI0teoXX"
      },
      "source": [
        "The above algorithm is a very simple division algorithm that could be improved in numerous ways, but I hope it get's the ideas across using something that you know well... division."
      ]
    },
    {
      "cell_type": "markdown",
      "metadata": {
        "id": "KANifagVYbkR"
      },
      "source": [
        "<div />"
      ]
    },
    {
      "cell_type": "markdown",
      "metadata": {
        "id": "PzLbbk0ZYXPf"
      },
      "source": [
        "#### Newton's Method"
      ]
    },
    {
      "cell_type": "markdown",
      "metadata": {
        "id": "91vZNxmcfU20"
      },
      "source": [
        "Now, on to Newton's method. The implementation of Newton's method defined below has the following arguments, usually called parameters in computational math.\n",
        "\n",
        "Approximate solution of f(x)=0 by Newton's method.\n",
        "    Parameters\n",
        "    ----------\n",
        "    f : function\n",
        "        Function for which we are searching for a solution f(x)=0.\n",
        "    df : function\n",
        "        Derivative of f(x).\n",
        "    x0 : number\n",
        "        Initial guess for a solution f(x)=0.\n",
        "    epsilon : number\n",
        "        Stopping criteria is abs(f(x)) < epsilon.\n",
        "    max_iters : integer\n",
        "        Maximum number of iterations of Newton's method.\n",
        "\n",
        "    Returns\n",
        "    -------\n",
        "    xn : number\n",
        "        Implement Newton's method: compute the linear approximation\n",
        "        of f(x) at x and find x intercept by the formula\n",
        "            x_new = x - f(x)/df(x)\n",
        "        Continue until abs(f(x)) < epsilon and return x.\n",
        "        If df(x) == 0, return None. If the number of iterations\n",
        "        exceeds max_iters, then return None.\n"
      ]
    },
    {
      "cell_type": "code",
      "metadata": {
        "id": "yxtr34rdQUFn"
      },
      "source": [
        "def newton(f, df, x0, epsilon=1e-10, max_iters=500):\n",
        "  \n",
        "  x=x0\n",
        "  for i in range(max_iters):\n",
        "    if df(x) == 0:\n",
        "      return x, \"Error: df(x) = 0.\"\n",
        "\n",
        "    x_new = x - (f(x)/df(x))\n",
        "\n",
        "    if abs(x_new - x) < epsilon:\n",
        "      return x\n",
        "    \n",
        "    x = x_new\n",
        "\n",
        "  return x, \"Error: Max iterations reached.\""
      ],
      "execution_count": 16,
      "outputs": []
    },
    {
      "cell_type": "code",
      "metadata": {
        "id": "Nd4ALqNARTm-"
      },
      "source": [
        "f = lambda x: (x - 1) ** 2\n",
        "df = lambda x: 2*(x - 1)\n",
        "x0=5"
      ],
      "execution_count": null,
      "outputs": []
    },
    {
      "cell_type": "code",
      "metadata": {
        "id": "HGWRNS0nRZM2",
        "outputId": "67887a2a-5db9-4754-be37-fe9f991d9a88",
        "colab": {
          "base_uri": "https://localhost:8080/",
          "height": 34
        }
      },
      "source": [
        "newton(f, df, x0)"
      ],
      "execution_count": null,
      "outputs": [
        {
          "output_type": "execute_result",
          "data": {
            "text/plain": [
              "1.0000000001164153"
            ]
          },
          "metadata": {
            "tags": []
          },
          "execution_count": 94
        }
      ]
    },
    {
      "cell_type": "code",
      "metadata": {
        "id": "TwI1cwu4Rb2q"
      },
      "source": [
        "f = lambda x: np.cos(x) - np.sin(x) + x ** 2 - 1\n",
        "df = lambda x: -np.sin(x) - np.cos(x) + 2*x\n",
        "x0 = 10"
      ],
      "execution_count": null,
      "outputs": []
    },
    {
      "cell_type": "code",
      "metadata": {
        "id": "MANPpePmSdN2",
        "outputId": "49593e33-0b7c-435f-a6d0-e2d73270bc44",
        "colab": {
          "base_uri": "https://localhost:8080/",
          "height": 34
        }
      },
      "source": [
        "newton(f, df, x0)"
      ],
      "execution_count": null,
      "outputs": [
        {
          "output_type": "execute_result",
          "data": {
            "text/plain": [
              "1.3044071640627957"
            ]
          },
          "metadata": {
            "tags": []
          },
          "execution_count": 96
        }
      ]
    },
    {
      "cell_type": "code",
      "metadata": {
        "id": "ewvtoiKqSfbI"
      },
      "source": [
        "f = lambda x: 1/x\n",
        "df = lambda x: -1/(x**2)\n",
        "x0=10"
      ],
      "execution_count": null,
      "outputs": []
    },
    {
      "cell_type": "code",
      "metadata": {
        "id": "92EvLZSuhYFs",
        "outputId": "696ef96d-4665-4a8b-e962-63dfdd77ec13",
        "colab": {
          "base_uri": "https://localhost:8080/",
          "height": 34
        }
      },
      "source": [
        "newton(f, df, x0)"
      ],
      "execution_count": null,
      "outputs": [
        {
          "output_type": "execute_result",
          "data": {
            "text/plain": [
              "(3.273390607896142e+151, 'Error: Max iterations reached.')"
            ]
          },
          "metadata": {
            "tags": []
          },
          "execution_count": 100
        }
      ]
    },
    {
      "cell_type": "code",
      "metadata": {
        "id": "MmjXgolYhiGi"
      },
      "source": [
        "f = lambda x: abs(x)\n",
        "df = lambda x: -1 if x < 0 else 1\n",
        "x0=100"
      ],
      "execution_count": null,
      "outputs": []
    },
    {
      "cell_type": "code",
      "metadata": {
        "id": "cOPvnO3GiOG-",
        "outputId": "7b33d7be-bf88-440d-a4d2-08e0f50e7159",
        "colab": {
          "base_uri": "https://localhost:8080/",
          "height": 34
        }
      },
      "source": [
        "newton(f, df, x0)"
      ],
      "execution_count": null,
      "outputs": [
        {
          "output_type": "execute_result",
          "data": {
            "text/plain": [
              "0.0"
            ]
          },
          "metadata": {
            "tags": []
          },
          "execution_count": 107
        }
      ]
    },
    {
      "cell_type": "code",
      "metadata": {
        "id": "u7J4D9wkifqj"
      },
      "source": [
        "f = lambda x: x ** (1/3)\n",
        "df = lambda x: (1/3)* x ** (-2/3)\n",
        "x0=1"
      ],
      "execution_count": null,
      "outputs": []
    },
    {
      "cell_type": "code",
      "metadata": {
        "id": "ogLhbkO1jJwc",
        "outputId": "bc5934ee-98fa-4013-9cde-b9af934f12b1",
        "colab": {
          "base_uri": "https://localhost:8080/",
          "height": 52
        }
      },
      "source": [
        "newton(f, df, x0)"
      ],
      "execution_count": null,
      "outputs": [
        {
          "output_type": "execute_result",
          "data": {
            "text/plain": [
              "((3.2733906078727675e+150-2.052305545199374e+136j),\n",
              " 'Error: Max iterations reached.')"
            ]
          },
          "metadata": {
            "tags": []
          },
          "execution_count": 112
        }
      ]
    },
    {
      "cell_type": "code",
      "metadata": {
        "id": "heQtcGMtjNf4"
      },
      "source": [
        ""
      ],
      "execution_count": null,
      "outputs": []
    }
  ]
}