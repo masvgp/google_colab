{
  "nbformat": 4,
  "nbformat_minor": 0,
  "metadata": {
    "colab": {
      "name": "strang_lin_alg_1_2_34_means_and_dot_prods.ipynb",
      "provenance": [],
      "collapsed_sections": [],
      "authorship_tag": "ABX9TyPbhUJXXDQcY8VinMYj5Vg9",
      "include_colab_link": true
    },
    "kernelspec": {
      "name": "python3",
      "display_name": "Python 3"
    }
  },
  "cells": [
    {
      "cell_type": "markdown",
      "metadata": {
        "id": "view-in-github",
        "colab_type": "text"
      },
      "source": [
        "<a href=\"https://colab.research.google.com/github/masvgp/google_colab/blob/master/strang_lin_alg_1_2_34_means_and_dot_prods.ipynb\" target=\"_parent\"><img src=\"https://colab.research.google.com/assets/colab-badge.svg\" alt=\"Open In Colab\"/></a>"
      ]
    },
    {
      "cell_type": "code",
      "metadata": {
        "id": "3DU22dnbIMsd",
        "colab_type": "code",
        "colab": {}
      },
      "source": [
        "import numpy as np"
      ],
      "execution_count": null,
      "outputs": []
    },
    {
      "cell_type": "code",
      "metadata": {
        "id": "zusIrR_kJxkf",
        "colab_type": "code",
        "colab": {
          "base_uri": "https://localhost:8080/",
          "height": 71
        },
        "outputId": "3d610ece-c6e4-4b55-ba62-dd6d98874c1a"
      },
      "source": [
        "v = np.random.randn(3, 1)\n",
        "u = v/np.linalg.norm(v)\n",
        "u"
      ],
      "execution_count": null,
      "outputs": [
        {
          "output_type": "execute_result",
          "data": {
            "text/plain": [
              "array([[-0.62349401],\n",
              "       [-0.74443463],\n",
              "       [ 0.23889809]])"
            ]
          },
          "metadata": {
            "tags": []
          },
          "execution_count": 2
        }
      ]
    },
    {
      "cell_type": "code",
      "metadata": {
        "id": "-cTHy44iKvAH",
        "colab_type": "code",
        "colab": {}
      },
      "source": [
        "V = np.random.randn(30, 3, 1)"
      ],
      "execution_count": null,
      "outputs": []
    },
    {
      "cell_type": "code",
      "metadata": {
        "id": "d-GMDNeCTUxK",
        "colab_type": "code",
        "colab": {}
      },
      "source": [
        "U = V/np.linalg.norm(V)"
      ],
      "execution_count": null,
      "outputs": []
    },
    {
      "cell_type": "code",
      "metadata": {
        "id": "TtKjYg74L7yP",
        "colab_type": "code",
        "colab": {
          "base_uri": "https://localhost:8080/",
          "height": 558
        },
        "outputId": "b5a0cc4f-9fd2-4257-c9aa-8cefa67c42ca"
      },
      "source": [
        "u_dot_U = np.dot(np.transpose(u), U)"
      ],
      "execution_count": null,
      "outputs": [
        {
          "output_type": "execute_result",
          "data": {
            "text/plain": [
              "array([[[ 0.05951801],\n",
              "        [-0.06342192],\n",
              "        [-0.06174345],\n",
              "        [-0.03686659],\n",
              "        [ 0.02709753],\n",
              "        [-0.13907481],\n",
              "        [ 0.11313056],\n",
              "        [ 0.1483165 ],\n",
              "        [-0.0633835 ],\n",
              "        [ 0.06253375],\n",
              "        [-0.14603727],\n",
              "        [ 0.10261034],\n",
              "        [ 0.04356945],\n",
              "        [ 0.08448712],\n",
              "        [-0.1570558 ],\n",
              "        [ 0.160369  ],\n",
              "        [ 0.2199208 ],\n",
              "        [-0.01861362],\n",
              "        [ 0.0127259 ],\n",
              "        [-0.11618528],\n",
              "        [-0.12905485],\n",
              "        [-0.05767757],\n",
              "        [-0.10371148],\n",
              "        [ 0.19220244],\n",
              "        [ 0.04770791],\n",
              "        [-0.08920619],\n",
              "        [ 0.0027949 ],\n",
              "        [ 0.08731681],\n",
              "        [ 0.08095016],\n",
              "        [-0.1448761 ]]])"
            ]
          },
          "metadata": {
            "tags": []
          },
          "execution_count": 9
        }
      ]
    },
    {
      "cell_type": "code",
      "metadata": {
        "id": "qb30f8z1QS32",
        "colab_type": "code",
        "colab": {
          "base_uri": "https://localhost:8080/",
          "height": 125
        },
        "outputId": "adc911ad-8188-44d2-8b65-a00efe024b12"
      },
      "source": [
        "u_dot_U = u_dot_U.flatten()"
      ],
      "execution_count": null,
      "outputs": [
        {
          "output_type": "execute_result",
          "data": {
            "text/plain": [
              "array([ 0.05951801, -0.06342192, -0.06174345, -0.03686659,  0.02709753,\n",
              "       -0.13907481,  0.11313056,  0.1483165 , -0.0633835 ,  0.06253375,\n",
              "       -0.14603727,  0.10261034,  0.04356945,  0.08448712, -0.1570558 ,\n",
              "        0.160369  ,  0.2199208 , -0.01861362,  0.0127259 , -0.11618528,\n",
              "       -0.12905485, -0.05767757, -0.10371148,  0.19220244,  0.04770791,\n",
              "       -0.08920619,  0.0027949 ,  0.08731681,  0.08095016, -0.1448761 ])"
            ]
          },
          "metadata": {
            "tags": []
          },
          "execution_count": 10
        }
      ]
    },
    {
      "cell_type": "code",
      "metadata": {
        "id": "koQ6xu9aS8oZ",
        "colab_type": "code",
        "colab": {
          "base_uri": "https://localhost:8080/",
          "height": 35
        },
        "outputId": "ed4161d4-eae6-4e88-c5a0-a0db1cb9f5f7"
      },
      "source": [
        "np.mean(u_dot_U)"
      ],
      "execution_count": null,
      "outputs": [
        {
          "output_type": "execute_result",
          "data": {
            "text/plain": [
              "0.003944758737941715"
            ]
          },
          "metadata": {
            "tags": []
          },
          "execution_count": 11
        }
      ]
    },
    {
      "cell_type": "code",
      "metadata": {
        "id": "HAr5Nt9vTAAQ",
        "colab_type": "code",
        "colab": {
          "base_uri": "https://localhost:8080/",
          "height": 35
        },
        "outputId": "8639b78a-08bb-45a0-a144-71787c67ef10"
      },
      "source": [
        "np.var(u_dot_U)"
      ],
      "execution_count": null,
      "outputs": [
        {
          "output_type": "execute_result",
          "data": {
            "text/plain": [
              "0.011393554480836756"
            ]
          },
          "metadata": {
            "tags": []
          },
          "execution_count": 12
        }
      ]
    }
  ]
}