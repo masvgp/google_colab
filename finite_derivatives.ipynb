{
  "nbformat": 4,
  "nbformat_minor": 0,
  "metadata": {
    "colab": {
      "name": "finite_derivatives.ipynb",
      "provenance": [],
      "collapsed_sections": [],
      "authorship_tag": "ABX9TyPuSCuj8mEpzMb8TNJxTGba",
      "include_colab_link": true
    },
    "kernelspec": {
      "name": "python3",
      "display_name": "Python 3"
    }
  },
  "cells": [
    {
      "cell_type": "markdown",
      "metadata": {
        "id": "view-in-github",
        "colab_type": "text"
      },
      "source": [
        "<a href=\"https://colab.research.google.com/github/masvgp/google_colab/blob/master/finite_derivatives.ipynb\" target=\"_parent\"><img src=\"https://colab.research.google.com/assets/colab-badge.svg\" alt=\"Open In Colab\"/></a>"
      ]
    },
    {
      "cell_type": "markdown",
      "metadata": {
        "id": "CabT2kik7Hxs",
        "colab_type": "text"
      },
      "source": [
        "# Backward Difference Method"
      ]
    },
    {
      "cell_type": "markdown",
      "metadata": {
        "id": "m1RRL-rq6ppa",
        "colab_type": "text"
      },
      "source": [
        "Import relevant libraries and give them a short name, e.g., rename `numpy` as `np`"
      ]
    },
    {
      "cell_type": "code",
      "metadata": {
        "id": "WB0BPsvI6ZvB",
        "colab_type": "code",
        "colab": {}
      },
      "source": [
        "import numpy as np"
      ],
      "execution_count": null,
      "outputs": []
    },
    {
      "cell_type": "markdown",
      "metadata": {
        "id": "PILIImuw7Szo",
        "colab_type": "text"
      },
      "source": [
        "### Functional Version"
      ]
    },
    {
      "cell_type": "markdown",
      "metadata": {
        "id": "-nUliKJj7eud",
        "colab_type": "text"
      },
      "source": [
        "Here we will define a Python function `back_diff` that takes any mathematical function `f`, a 1-D array of numbers `x`, and a step-size `h`. The function will return a 1-D array containing the 'backward differences' of `f` applied to `x`. This is similar to computing the derivative $f'$ of the function `f`. For reference, the backward difference formula implemented in ``back_diff`` is $$\\frac{f(x) - f(x - h)}{h}.$$"
      ]
    },
    {
      "cell_type": "code",
      "metadata": {
        "id": "MCs6vIbO7eCF",
        "colab_type": "code",
        "colab": {}
      },
      "source": [
        "def back_diff(f, x, h):\n",
        "  '''\n",
        "  Implementation of the backward difference formula with step size h.\n",
        "  f : function\n",
        "    Vectorized function of a single variable\n",
        "  x : vector\n",
        "      a vector of values over which to compute the differences of f at x\n",
        "  h : number\n",
        "      Step size in difference formula\n",
        "  '''\n",
        "\n",
        "  return (f(x) - f(x - h)) / h"
      ],
      "execution_count": null,
      "outputs": []
    },
    {
      "cell_type": "markdown",
      "metadata": {
        "id": "her1V2zm9BaR",
        "colab_type": "text"
      },
      "source": [
        "Now we need to define the arguments `f`, `x`, and `h` that will be taken by `back_diff`."
      ]
    },
    {
      "cell_type": "markdown",
      "metadata": {
        "id": "TYUkI1Nt9U45",
        "colab_type": "text"
      },
      "source": [
        "First we define an array of linearly (equally) spaced values, which will eventually be fed to `f`. The numpy function that does this is `numpy.linspace(start, stop, num)`. The arguments are, `start` = starting value, `stop` = ending value, and `num` = number of point to draw from the range `start` to `stop`."
      ]
    },
    {
      "cell_type": "code",
      "metadata": {
        "id": "WeDJqsvd9PAA",
        "colab_type": "code",
        "colab": {
          "base_uri": "https://localhost:8080/",
          "height": 34
        },
        "outputId": "af9359aa-a725-458a-fbd3-25a6bb237d02"
      },
      "source": [
        "x = np.linspace(0, 10, 11)\n",
        "x"
      ],
      "execution_count": null,
      "outputs": [
        {
          "output_type": "execute_result",
          "data": {
            "text/plain": [
              "array([ 0.,  1.,  2.,  3.,  4.,  5.,  6.,  7.,  8.,  9., 10.])"
            ]
          },
          "metadata": {
            "tags": []
          },
          "execution_count": 31
        }
      ]
    },
    {
      "cell_type": "markdown",
      "metadata": {
        "id": "Zmc7mig4_H4n",
        "colab_type": "text"
      },
      "source": [
        "Now we define the step size, which is really a function of the sample points we drew in the `np.linspace()` function. Specifically, `h = (stop - start)/(num - 1)`. You should be able to explain why we use `num-1` instead of just `num` in the denominator."
      ]
    },
    {
      "cell_type": "code",
      "metadata": {
        "id": "vj7chcpx_ahh",
        "colab_type": "code",
        "colab": {
          "base_uri": "https://localhost:8080/",
          "height": 34
        },
        "outputId": "10321a05-df68-493e-f724-01455ea43392"
      },
      "source": [
        "h = (10 - 0)/10\n",
        "h"
      ],
      "execution_count": null,
      "outputs": [
        {
          "output_type": "execute_result",
          "data": {
            "text/plain": [
              "1.0"
            ]
          },
          "metadata": {
            "tags": []
          },
          "execution_count": 32
        }
      ]
    },
    {
      "cell_type": "markdown",
      "metadata": {
        "id": "dQ_lvxa3AAcR",
        "colab_type": "text"
      },
      "source": [
        "Now we need to define a function `f` to feed to `back_diff`. There are two ways to do this. The 'regular' function way and the anonymous function way. We will show both."
      ]
    },
    {
      "cell_type": "markdown",
      "metadata": {
        "id": "KcKas_TeAZPC",
        "colab_type": "text"
      },
      "source": [
        "First we start with an anonymous function, which uses Python's `lambda` function. It creates a nameless function. Usually you only do this if you are defining a function with only a single use, which is what we are doing here. The syntax is to call `lambda` with a variable, then a colon and what you want `lambda` to do to the variable. We store the function in `f`. Then when we want to call `f` with an argument, say `x`, we just call it like any other function, `f(x)`."
      ]
    },
    {
      "cell_type": "code",
      "metadata": {
        "id": "9cBWeJi6_8Da",
        "colab_type": "code",
        "colab": {}
      },
      "source": [
        "f = lambda x: x ** 2"
      ],
      "execution_count": null,
      "outputs": []
    },
    {
      "cell_type": "markdown",
      "metadata": {
        "id": "BBHhBW9qBEwZ",
        "colab_type": "text"
      },
      "source": [
        "The other way to do this is to create a named function. Like we did with the `back_diff` function."
      ]
    },
    {
      "cell_type": "code",
      "metadata": {
        "id": "CjaVLVYvBL18",
        "colab_type": "code",
        "colab": {}
      },
      "source": [
        "def square(x):\n",
        "  return x ** 2"
      ],
      "execution_count": null,
      "outputs": []
    },
    {
      "cell_type": "markdown",
      "metadata": {
        "id": "1g_HrNBIBPRw",
        "colab_type": "text"
      },
      "source": [
        "Finally, we will call `back_diff` and feed it appropriate arguments. We'll do it first with the anonymous function `f`, then with the 'regular' function `square`. You should get the same result out of both function calls."
      ]
    },
    {
      "cell_type": "code",
      "metadata": {
        "id": "Xo8AcumjBtLJ",
        "colab_type": "code",
        "colab": {
          "base_uri": "https://localhost:8080/",
          "height": 34
        },
        "outputId": "0412b7f0-464e-47b2-c026-b3cc32d70c9f"
      },
      "source": [
        "back_diff(f, x, h)"
      ],
      "execution_count": null,
      "outputs": [
        {
          "output_type": "execute_result",
          "data": {
            "text/plain": [
              "array([-1.,  1.,  3.,  5.,  7.,  9., 11., 13., 15., 17., 19.])"
            ]
          },
          "metadata": {
            "tags": []
          },
          "execution_count": 35
        }
      ]
    },
    {
      "cell_type": "code",
      "metadata": {
        "id": "ax_h9HiEBzI9",
        "colab_type": "code",
        "colab": {
          "base_uri": "https://localhost:8080/",
          "height": 34
        },
        "outputId": "cf490922-1a06-4be3-c6b8-7ce87b345e38"
      },
      "source": [
        "back_diff(square, x, h)"
      ],
      "execution_count": null,
      "outputs": [
        {
          "output_type": "execute_result",
          "data": {
            "text/plain": [
              "array([-1.,  1.,  3.,  5.,  7.,  9., 11., 13., 15., 17., 19.])"
            ]
          },
          "metadata": {
            "tags": []
          },
          "execution_count": 36
        }
      ]
    },
    {
      "cell_type": "markdown",
      "metadata": {
        "id": "NeRpXbotCHbG",
        "colab_type": "text"
      },
      "source": [
        "### Matrix Version"
      ]
    },
    {
      "cell_type": "markdown",
      "metadata": {
        "id": "dZ00uZvgCKeJ",
        "colab_type": "text"
      },
      "source": [
        "Now we will create a backward difference matrix `A` that will 'act' on any vector of function values `f(x)` and return the bacward differences."
      ]
    },
    {
      "cell_type": "markdown",
      "metadata": {
        "id": "1ZQlGQ-QCcf8",
        "colab_type": "text"
      },
      "source": [
        "We start by creating a matrix with ones down the diagonal."
      ]
    },
    {
      "cell_type": "code",
      "metadata": {
        "id": "JH2X421mCarQ",
        "colab_type": "code",
        "colab": {}
      },
      "source": [
        "A = np.eye(10)"
      ],
      "execution_count": null,
      "outputs": []
    },
    {
      "cell_type": "markdown",
      "metadata": {
        "id": "aLQ0H6WwCl4N",
        "colab_type": "text"
      },
      "source": [
        "Then we add the negative ones on the lower off-diagonal"
      ]
    },
    {
      "cell_type": "code",
      "metadata": {
        "id": "-cYx7AuWCrHQ",
        "colab_type": "code",
        "colab": {}
      },
      "source": [
        "for i in range(9):\n",
        "  A[i + 1, i] = -1"
      ],
      "execution_count": null,
      "outputs": []
    },
    {
      "cell_type": "markdown",
      "metadata": {
        "id": "gNoqaLcVD8zN",
        "colab_type": "text"
      },
      "source": [
        "Let's just check that `A` looks the way we think it should."
      ]
    },
    {
      "cell_type": "code",
      "metadata": {
        "id": "6w9beW6UEFUp",
        "colab_type": "code",
        "colab": {
          "base_uri": "https://localhost:8080/",
          "height": 191
        },
        "outputId": "2d82851e-a75b-4935-9bd8-56742161315e"
      },
      "source": [
        "A"
      ],
      "execution_count": null,
      "outputs": [
        {
          "output_type": "execute_result",
          "data": {
            "text/plain": [
              "array([[ 1.,  0.,  0.,  0.,  0.,  0.,  0.,  0.,  0.,  0.],\n",
              "       [-1.,  1.,  0.,  0.,  0.,  0.,  0.,  0.,  0.,  0.],\n",
              "       [ 0., -1.,  1.,  0.,  0.,  0.,  0.,  0.,  0.,  0.],\n",
              "       [ 0.,  0., -1.,  1.,  0.,  0.,  0.,  0.,  0.,  0.],\n",
              "       [ 0.,  0.,  0., -1.,  1.,  0.,  0.,  0.,  0.,  0.],\n",
              "       [ 0.,  0.,  0.,  0., -1.,  1.,  0.,  0.,  0.,  0.],\n",
              "       [ 0.,  0.,  0.,  0.,  0., -1.,  1.,  0.,  0.,  0.],\n",
              "       [ 0.,  0.,  0.,  0.,  0.,  0., -1.,  1.,  0.,  0.],\n",
              "       [ 0.,  0.,  0.,  0.,  0.,  0.,  0., -1.,  1.,  0.],\n",
              "       [ 0.,  0.,  0.,  0.,  0.,  0.,  0.,  0., -1.,  1.]])"
            ]
          },
          "metadata": {
            "tags": []
          },
          "execution_count": 43
        }
      ]
    },
    {
      "cell_type": "markdown",
      "metadata": {
        "id": "Oi2TBKsVCuW5",
        "colab_type": "text"
      },
      "source": [
        "Then we create an array of function values."
      ]
    },
    {
      "cell_type": "code",
      "metadata": {
        "id": "L9ksD7J8Ct8Z",
        "colab_type": "code",
        "colab": {}
      },
      "source": [
        "x = square(np.arange(10))"
      ],
      "execution_count": null,
      "outputs": []
    },
    {
      "cell_type": "markdown",
      "metadata": {
        "id": "u9yOrwiGC0t6",
        "colab_type": "text"
      },
      "source": [
        "Finally, we compute the backward differences $b$ by taking the dot product $Ax$, that is, we compute $Ax = b$."
      ]
    },
    {
      "cell_type": "code",
      "metadata": {
        "id": "7WwfVjvSC-hy",
        "colab_type": "code",
        "colab": {
          "base_uri": "https://localhost:8080/",
          "height": 34
        },
        "outputId": "c44be8c0-6ed3-47e5-90c0-ae5f91ccccb6"
      },
      "source": [
        "dydx = np.dot(A, x)\n",
        "dydx"
      ],
      "execution_count": null,
      "outputs": [
        {
          "output_type": "execute_result",
          "data": {
            "text/plain": [
              "array([ 0.,  1.,  3.,  5.,  7.,  9., 11., 13., 15., 17.])"
            ]
          },
          "metadata": {
            "tags": []
          },
          "execution_count": 40
        }
      ]
    },
    {
      "cell_type": "markdown",
      "metadata": {
        "id": "7VxUxyvcDCNZ",
        "colab_type": "text"
      },
      "source": [
        "Now, suppose we wanted to recover `x` from `dydx`. We could use `numpy`'s inverse function from it's linear algebra library like so."
      ]
    },
    {
      "cell_type": "code",
      "metadata": {
        "id": "L2DhDw4kDOht",
        "colab_type": "code",
        "colab": {
          "base_uri": "https://localhost:8080/",
          "height": 191
        },
        "outputId": "6791f91c-29f0-4452-8c76-17628c29f0e0"
      },
      "source": [
        "A_inv = np.linalg.inv(A)\n",
        "A_inv"
      ],
      "execution_count": null,
      "outputs": [
        {
          "output_type": "execute_result",
          "data": {
            "text/plain": [
              "array([[1., 0., 0., 0., 0., 0., 0., 0., 0., 0.],\n",
              "       [1., 1., 0., 0., 0., 0., 0., 0., 0., 0.],\n",
              "       [1., 1., 1., 0., 0., 0., 0., 0., 0., 0.],\n",
              "       [1., 1., 1., 1., 0., 0., 0., 0., 0., 0.],\n",
              "       [1., 1., 1., 1., 1., 0., 0., 0., 0., 0.],\n",
              "       [1., 1., 1., 1., 1., 1., 0., 0., 0., 0.],\n",
              "       [1., 1., 1., 1., 1., 1., 1., 0., 0., 0.],\n",
              "       [1., 1., 1., 1., 1., 1., 1., 1., 0., 0.],\n",
              "       [1., 1., 1., 1., 1., 1., 1., 1., 1., 0.],\n",
              "       [1., 1., 1., 1., 1., 1., 1., 1., 1., 1.]])"
            ]
          },
          "metadata": {
            "tags": []
          },
          "execution_count": 41
        }
      ]
    },
    {
      "cell_type": "markdown",
      "metadata": {
        "id": "496uIiFSDSb1",
        "colab_type": "text"
      },
      "source": [
        "Then we take the dot product $A^{-1}b$ which returns the original $x$."
      ]
    },
    {
      "cell_type": "code",
      "metadata": {
        "id": "iOkZhqDXDlva",
        "colab_type": "code",
        "colab": {
          "base_uri": "https://localhost:8080/",
          "height": 34
        },
        "outputId": "0a315578-41d1-4e29-cde0-aa8bf5a3167e"
      },
      "source": [
        "x = np.dot(A_inv, dydx)\n",
        "x"
      ],
      "execution_count": null,
      "outputs": [
        {
          "output_type": "execute_result",
          "data": {
            "text/plain": [
              "array([ 0.,  1.,  4.,  9., 16., 25., 36., 49., 64., 81.])"
            ]
          },
          "metadata": {
            "tags": []
          },
          "execution_count": 42
        }
      ]
    }
  ]
}